{
  "nbformat": 4,
  "nbformat_minor": 0,
  "metadata": {
    "colab": {
      "name": "Sahil_Parmar.ipynb",
      "provenance": []
    },
    "kernelspec": {
      "name": "python3",
      "display_name": "Python 3"
    }
  },
  "cells": [
    {
      "cell_type": "markdown",
      "metadata": {
        "id": "0LizAzd-QZPB"
      },
      "source": [
        "Import Libraries"
      ]
    },
    {
      "cell_type": "code",
      "metadata": {
        "id": "Qu7xaq4fQioS"
      },
      "source": [
        "import pandas as pd\r\n",
        "import numpy as np\r\n",
        "import sklearn"
      ],
      "execution_count": 2,
      "outputs": []
    },
    {
      "cell_type": "markdown",
      "metadata": {
        "id": "Fyi529Y-RRiy"
      },
      "source": [
        "About Data"
      ]
    },
    {
      "cell_type": "code",
      "metadata": {
        "id": "PVjYU4A3Qu6p"
      },
      "source": [
        "from sklearn.datasets import load_iris\r\n",
        "iris_dataset = load_iris()"
      ],
      "execution_count": 3,
      "outputs": []
    },
    {
      "cell_type": "code",
      "metadata": {
        "colab": {
          "base_uri": "https://localhost:8080/"
        },
        "id": "SEc8iX5KRZbC",
        "outputId": "1b4c069b-e64e-4966-f0b4-83f764999e10"
      },
      "source": [
        "print(\"Keys of dataset: {}\".format(iris_dataset.keys()))"
      ],
      "execution_count": 8,
      "outputs": [
        {
          "output_type": "stream",
          "text": [
            "Keys of dataset: dict_keys(['data', 'target', 'target_names', 'DESCR', 'feature_names', 'filename'])\n"
          ],
          "name": "stdout"
        }
      ]
    },
    {
      "cell_type": "code",
      "metadata": {
        "colab": {
          "base_uri": "https://localhost:8080/"
        },
        "id": "KR_OCrsUSK0a",
        "outputId": "059face7-182a-42ee-d8d2-865187713256"
      },
      "source": [
        "print(iris_dataset['DESCR'][:200])"
      ],
      "execution_count": 9,
      "outputs": [
        {
          "output_type": "stream",
          "text": [
            ".. _iris_dataset:\n",
            "\n",
            "Iris plants dataset\n",
            "--------------------\n",
            "\n",
            "**Data Set Characteristics:**\n",
            "\n",
            "    :Number of Instances: 150 (50 in each of three classes)\n",
            "    :Number of Attributes: 4 numeric, predictive\n"
          ],
          "name": "stdout"
        }
      ]
    },
    {
      "cell_type": "code",
      "metadata": {
        "colab": {
          "base_uri": "https://localhost:8080/"
        },
        "id": "TemIlUE_Ss3R",
        "outputId": "f8c91efe-1480-4fb9-abf7-130e27bbe6b3"
      },
      "source": [
        "print(\"Target Names: {}\".format(iris_dataset['target_names']))"
      ],
      "execution_count": 10,
      "outputs": [
        {
          "output_type": "stream",
          "text": [
            "Target Names: ['setosa' 'versicolor' 'virginica']\n"
          ],
          "name": "stdout"
        }
      ]
    },
    {
      "cell_type": "code",
      "metadata": {
        "colab": {
          "base_uri": "https://localhost:8080/"
        },
        "id": "-OUsVe-qS758",
        "outputId": "1a8ac0f2-10a5-41cd-d29b-e7cbdc55af06"
      },
      "source": [
        "print(\"Feature Names: {}\".format(iris_dataset['feature_names']))"
      ],
      "execution_count": 11,
      "outputs": [
        {
          "output_type": "stream",
          "text": [
            "Feature Names: ['sepal length (cm)', 'sepal width (cm)', 'petal length (cm)', 'petal width (cm)']\n"
          ],
          "name": "stdout"
        }
      ]
    },
    {
      "cell_type": "code",
      "metadata": {
        "colab": {
          "base_uri": "https://localhost:8080/"
        },
        "id": "8l5k-NFiS9DN",
        "outputId": "6e2e0db6-2216-4a74-c68d-6074ba16c6d9"
      },
      "source": [
        "print(\"Type of Data: {}\".format(type(iris_dataset['data'])))"
      ],
      "execution_count": 12,
      "outputs": [
        {
          "output_type": "stream",
          "text": [
            "Type of Data: <class 'numpy.ndarray'>\n"
          ],
          "name": "stdout"
        }
      ]
    },
    {
      "cell_type": "code",
      "metadata": {
        "colab": {
          "base_uri": "https://localhost:8080/"
        },
        "id": "kod39HDpS_YK",
        "outputId": "e621d7e8-3060-44b4-aa9d-d1a90cbcd239"
      },
      "source": [
        "print(\"Shape of Data: {}\".format(iris_dataset['data'].shape))"
      ],
      "execution_count": 13,
      "outputs": [
        {
          "output_type": "stream",
          "text": [
            "Shape of Data: (150, 4)\n"
          ],
          "name": "stdout"
        }
      ]
    },
    {
      "cell_type": "code",
      "metadata": {
        "colab": {
          "base_uri": "https://localhost:8080/"
        },
        "id": "jKenSRGhT7HH",
        "outputId": "5d741967-8d2f-4ff1-d96e-b73af22c0cc9"
      },
      "source": [
        "print(\"Starting rows of Data: {}\".format(iris_dataset['data'][:5]))"
      ],
      "execution_count": 15,
      "outputs": [
        {
          "output_type": "stream",
          "text": [
            "Starting rows of Data: [[5.1 3.5 1.4 0.2]\n",
            " [4.9 3.  1.4 0.2]\n",
            " [4.7 3.2 1.3 0.2]\n",
            " [4.6 3.1 1.5 0.2]\n",
            " [5.  3.6 1.4 0.2]]\n"
          ],
          "name": "stdout"
        }
      ]
    },
    {
      "cell_type": "code",
      "metadata": {
        "colab": {
          "base_uri": "https://localhost:8080/"
        },
        "id": "iDFQTzpJVbTP",
        "outputId": "e3076265-3858-4786-f614-6d74db460e37"
      },
      "source": [
        "print(\"Type of Target: {}\".format(type(iris_dataset['target'])))"
      ],
      "execution_count": 16,
      "outputs": [
        {
          "output_type": "stream",
          "text": [
            "Type of Target: <class 'numpy.ndarray'>\n"
          ],
          "name": "stdout"
        }
      ]
    },
    {
      "cell_type": "code",
      "metadata": {
        "colab": {
          "base_uri": "https://localhost:8080/"
        },
        "id": "NLap-QXqVu2Q",
        "outputId": "81e2623b-a93f-4422-dc06-819d555ae8bb"
      },
      "source": [
        "print(\"Shape of Target: {}\".format(iris_dataset['target'].shape))"
      ],
      "execution_count": 17,
      "outputs": [
        {
          "output_type": "stream",
          "text": [
            "Shape of Target: (150,)\n"
          ],
          "name": "stdout"
        }
      ]
    },
    {
      "cell_type": "code",
      "metadata": {
        "colab": {
          "base_uri": "https://localhost:8080/"
        },
        "id": "h9YksUebV_Ez",
        "outputId": "f0ca4488-8826-44fe-b8b0-372bb57ba446"
      },
      "source": [
        "print(\"Target: {}\".format(iris_dataset['target']))"
      ],
      "execution_count": 18,
      "outputs": [
        {
          "output_type": "stream",
          "text": [
            "Target: [0 0 0 0 0 0 0 0 0 0 0 0 0 0 0 0 0 0 0 0 0 0 0 0 0 0 0 0 0 0 0 0 0 0 0 0 0\n",
            " 0 0 0 0 0 0 0 0 0 0 0 0 0 1 1 1 1 1 1 1 1 1 1 1 1 1 1 1 1 1 1 1 1 1 1 1 1\n",
            " 1 1 1 1 1 1 1 1 1 1 1 1 1 1 1 1 1 1 1 1 1 1 1 1 1 1 2 2 2 2 2 2 2 2 2 2 2\n",
            " 2 2 2 2 2 2 2 2 2 2 2 2 2 2 2 2 2 2 2 2 2 2 2 2 2 2 2 2 2 2 2 2 2 2 2 2 2\n",
            " 2 2]\n"
          ],
          "name": "stdout"
        }
      ]
    },
    {
      "cell_type": "markdown",
      "metadata": {
        "id": "wbhzUTVwWmfC"
      },
      "source": [
        "Model Creation, Train and test the data"
      ]
    },
    {
      "cell_type": "code",
      "metadata": {
        "id": "d7DlGc_KWebH"
      },
      "source": [
        "import sklearn\r\n",
        "from sklearn.model_selection import train_test_split"
      ],
      "execution_count": 22,
      "outputs": []
    },
    {
      "cell_type": "code",
      "metadata": {
        "id": "MBCsVlBDW5fj"
      },
      "source": [
        "x_train, x_test, y_train, y_test = train_test_split(iris_dataset['data'], iris_dataset['target'], random_state = 0)"
      ],
      "execution_count": 24,
      "outputs": []
    },
    {
      "cell_type": "code",
      "metadata": {
        "colab": {
          "base_uri": "https://localhost:8080/"
        },
        "id": "iZAgC3V9YYUR",
        "outputId": "3788cc48-71d0-4294-8868-720751869dd5"
      },
      "source": [
        "print(\"x_train shape: {}\".format(x_train.shape))\r\n",
        "print(\"y_train shape: {}\".format(y_train.shape))\r\n",
        "print(\"x_test shape: {}\".format(x_test.shape))\r\n",
        "print(\"x_test shape: {}\".format(x_test.shape))"
      ],
      "execution_count": 25,
      "outputs": [
        {
          "output_type": "stream",
          "text": [
            "x_train shape: (112, 4)\n",
            "y_train shape: (112,)\n",
            "x_test shape: (38, 4)\n",
            "x_test shape: (38, 4)\n"
          ],
          "name": "stdout"
        }
      ]
    },
    {
      "cell_type": "markdown",
      "metadata": {
        "id": "Za3PjivkZEPg"
      },
      "source": [
        "Solve using K Nearest Neighbor"
      ]
    },
    {
      "cell_type": "code",
      "metadata": {
        "id": "SBwnv3r1Y-UV"
      },
      "source": [
        "from sklearn.neighbors import KNeighborsClassifier\r\n",
        "knn = KNeighborsClassifier(n_neighbors = 1)"
      ],
      "execution_count": 27,
      "outputs": []
    },
    {
      "cell_type": "code",
      "metadata": {
        "colab": {
          "base_uri": "https://localhost:8080/"
        },
        "id": "YEM1KV3gZgwk",
        "outputId": "88a55685-3e78-4ed6-c1a5-f99fc2d3fbfa"
      },
      "source": [
        "knn.fit(x_train, y_train)"
      ],
      "execution_count": 28,
      "outputs": [
        {
          "output_type": "execute_result",
          "data": {
            "text/plain": [
              "KNeighborsClassifier(algorithm='auto', leaf_size=30, metric='minkowski',\n",
              "                     metric_params=None, n_jobs=None, n_neighbors=1, p=2,\n",
              "                     weights='uniform')"
            ]
          },
          "metadata": {
            "tags": []
          },
          "execution_count": 28
        }
      ]
    },
    {
      "cell_type": "code",
      "metadata": {
        "id": "fiDiVKTaaBOe"
      },
      "source": [
        "x_new = np.array([[5, 2.9, 1, 2.0]])\r\n",
        "print(\"Shape of x_new: {}\".format(x_new.shape))"
      ],
      "execution_count": null,
      "outputs": []
    },
    {
      "cell_type": "markdown",
      "metadata": {
        "id": "3V-vjlouayQQ"
      },
      "source": [
        "It's prediction time"
      ]
    },
    {
      "cell_type": "code",
      "metadata": {
        "colab": {
          "base_uri": "https://localhost:8080/"
        },
        "id": "ldnotFk9avia",
        "outputId": "98018834-c78d-4e16-9085-a120283d2390"
      },
      "source": [
        "prediction = knn.predict(x_new)\r\n",
        "print(\"Prediction: {}\".format(prediction))\r\n",
        "print(\"Target name predicted by model: {}\".format(iris_dataset['target_names'][prediction])) "
      ],
      "execution_count": 36,
      "outputs": [
        {
          "output_type": "stream",
          "text": [
            "Prediction: [0]\n",
            "Target name predicted by model: ['setosa']\n"
          ],
          "name": "stdout"
        }
      ]
    },
    {
      "cell_type": "code",
      "metadata": {
        "colab": {
          "base_uri": "https://localhost:8080/"
        },
        "id": "vNtFPFYLcbrC",
        "outputId": "9e680beb-f95f-423e-f23f-647e5b648b0c"
      },
      "source": [
        "y_pred = knn.predict(x_test)\r\n",
        "print(\"Prediction from test data: {}\".format(y_pred))"
      ],
      "execution_count": 37,
      "outputs": [
        {
          "output_type": "stream",
          "text": [
            "Prediction from test data: [2 1 0 2 0 2 0 1 1 1 2 1 1 1 1 0 1 1 0 0 2 1 0 0 2 0 0 1 1 0 2 1 0 2 2 1 0\n",
            " 2]\n"
          ],
          "name": "stdout"
        }
      ]
    },
    {
      "cell_type": "code",
      "metadata": {
        "colab": {
          "base_uri": "https://localhost:8080/"
        },
        "id": "Yf-FsWejctUF",
        "outputId": "a28bfb0a-f001-4298-e1c2-5fb23c8f7ca3"
      },
      "source": [
        "print(\"Test set score: {}\".format(np.mean(y_pred == y_test)))"
      ],
      "execution_count": 38,
      "outputs": [
        {
          "output_type": "stream",
          "text": [
            "Test set score: 0.9736842105263158\n"
          ],
          "name": "stdout"
        }
      ]
    }
  ]
}